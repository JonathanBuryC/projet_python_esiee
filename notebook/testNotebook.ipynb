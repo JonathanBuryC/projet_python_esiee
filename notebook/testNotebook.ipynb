{
 "cells": [
  {
   "cell_type": "code",
   "execution_count": 251,
   "metadata": {},
   "outputs": [],
   "source": [
    "import pandas as pd\n",
    "import dash\n",
    "from dash import Dash, html, dash_table, dcc,  Input, Output, callback\n",
    "import plotly_express as px\n",
    "import sweetviz as sv\n",
    "import folium\n",
    "from folium.plugins import MarkerCluster\n",
    "import numpy as np\n",
    "import random # pour modifier les coordonnées long et lat\n",
    "import matplotlib.pyplot as plt\n",
    "import sys"
   ]
  },
  {
   "cell_type": "code",
   "execution_count": 252,
   "metadata": {},
   "outputs": [],
   "source": [
    "import dash_core_components as dcc\n",
    "import dash_html_components as html\n",
    "from dash.dependencies import Input, Output"
   ]
  },
  {
   "cell_type": "markdown",
   "metadata": {},
   "source": [
    "import des modules du folder \"scripte_python\""
   ]
  },
  {
   "cell_type": "code",
   "execution_count": 253,
   "metadata": {},
   "outputs": [],
   "source": [
    "sys.path.append('../scripte_python')\n",
    "from graph_premiereFig import premiereFig\n",
    "from graph_premiereFig import mean_counts_by_year\n",
    "from graph_deuxiemeFig import deuxiemeFig\n",
    "from graph_selectPays import button_select_country\n",
    "from graph_selectPays import selectPays"
   ]
  },
  {
   "cell_type": "markdown",
   "metadata": {},
   "source": [
    "Dataframes"
   ]
  },
  {
   "cell_type": "code",
   "execution_count": 254,
   "metadata": {},
   "outputs": [],
   "source": [
    "edf = pd.read_csv(\"../CSV/productions-consolidees-par-pays-du-groupe-edf.csv\",delimiter=';')\n",
    "paysDF = pd.read_csv(\"../CSV/Country.csv\" )\n",
    "edf_pays=pd.read_csv(\"../CSV/edf_AND_country.csv\")"
   ]
  },
  {
   "cell_type": "markdown",
   "metadata": {},
   "source": [
    "initialisation de la page web Dash "
   ]
  },
  {
   "cell_type": "code",
   "execution_count": 255,
   "metadata": {},
   "outputs": [],
   "source": [
    "app = dash.Dash(__name__)"
   ]
  },
  {
   "cell_type": "code",
   "execution_count": 256,
   "metadata": {},
   "outputs": [],
   "source": [
    "# colors = {\n",
    "#     'background': '#111111',\n",
    "#     'text': '#7FDBFF'\n",
    "# }\n",
    "\n",
    "# ne me sert à rien , je l ai deja mis dans mes script python ( premierefig et deuxiemefig)"
   ]
  },
  {
   "cell_type": "code",
   "execution_count": 257,
   "metadata": {},
   "outputs": [],
   "source": [
    "# def premiereFig():\n",
    "#     mean_counts_by_year = (edf.groupby([\"Année\",\"Filière\"], sort=True)['Production'].mean()).reset_index()\n",
    "#     fig1 = px.bar((edf.groupby([\"Année\",\"Filière\"], sort=True)['Production'].mean()).reset_index(), x='Année', y='Prduction',color=\"Filière\", height=800)\n",
    "#     return fig1"
   ]
  },
  {
   "cell_type": "code",
   "execution_count": 258,
   "metadata": {},
   "outputs": [],
   "source": [
    "# mean_counts_by_year = (edf.groupby([\"Année\",\"Filière\"], sort=True)['Production'].mean()).reset_index()"
   ]
  },
  {
   "cell_type": "markdown",
   "metadata": {},
   "source": [
    "Marquage dynamique pour que les boutons puissent impacter en temps reel les graphs\n"
   ]
  },
  {
   "cell_type": "code",
   "execution_count": 259,
   "metadata": {},
   "outputs": [],
   "source": [
    "# @callback(\n",
    "#     Output('dd-output-container', 'children'),\n",
    "#     Input('demo-dropdown', 'value')\n",
    "# )"
   ]
  },
  {
   "cell_type": "code",
   "execution_count": 260,
   "metadata": {},
   "outputs": [],
   "source": [
    "app.layout = html.Div([\n",
    "    html.H1(\"Étude du marché de l'énergie d'EDF au niveau mondial\", style={'textAlign': 'center', 'color': '#7FDBFF'}),\n",
    "\n",
    "    html.Div([\n",
    "        html.P(\"Data set appartenant à EDF\"),\n",
    "        dcc.Markdown(\"[Source Internet](https://opendata.edf.fr/explore/dataset/productions-consolidees-par-pays-du-groupe-edf/information/?disjunctive.perimetre_spatial&disjunctive.filiere&sort=-tri&dataChart=eyJxdWVyaWVzIjpbeyJjaGFydHMiOlt7InR5cGUiOiJjb2x1bW4iLCJmdW5jIjoiU1VNIiwieUF4aXMiOiJwcm9kdWN0aW9uIiwic2NpZW50aWZpY0Rpc3BsYXkiOnRydWUsImNvbG9yIjoiIzAwMUE3MCJ9XSwieEF4aXMiOiJhbm5lZSIsIm1heHBvaW50cyI6bnVsbCwidGltZXNjYWxlIjoieWVhciIsInNvcnQiOiIiLCJzZXJpZXNCcmVha2Rvd25UaW1lc2NhbGUiOiIiLCJjb25maWciOnsiZGF0YXNldCI6InByb2R1Y3Rpb25zLWNvbnNvbGlkZWVzLXBhci1wYXlzLWR1LWdyb3VwZS1lZGYiLCJvcHRpb25zIjp7ImRpc2p1bmN0aXZlLnBlcmltZXRyZV9zcGF0aWFsIjp0cnVlLCJkaXNqdW5jdGl2ZS5maWxpZXJlIjp0cnVlLCJzb3J0IjoiLXRyaSJ9fX1dLCJkaXNwbGF5TGVnZW5kIjp0cnVlLCJhbGlnbk1vbnRoIjp0cnVlLCJ0aW1lc2NhbGUiOiIifQ%3D%3D)\")\n",
    "    ]),\n",
    "\n",
    "    html.Div([\n",
    "        html.H2(\"Data frame de EDF\",style={'textAlign': 'center'}),\n",
    "        # dcc.Graph(figure=edf),\n",
    "        dash_table.DataTable(data=edf.to_dict('records'),\n",
    "                             page_size=10,\n",
    "                             style_data_conditional=[\n",
    "                                {\n",
    "                                    'backgroundColor': 'black',\n",
    "                                    'color': 'white'   \n",
    "                                }\n",
    "                                ],\n",
    "                            )\n",
    "    ]),\n",
    "       html.Div([\n",
    "        html.H2(\"Data frame des pays\",style={'textAlign': 'center'}),\n",
    "        # dcc.Graph(figure=paysDF)\n",
    "        dash_table.DataTable(data=paysDF.to_dict('records'),\n",
    "                             page_size=10,\n",
    "                             style_data_conditional=[\n",
    "                                {\n",
    "                                    'backgroundColor': 'black',\n",
    "                                    'color': 'white'   \n",
    "                                }\n",
    "                                ],\n",
    "                            )\n",
    "    ]),\n",
    "\n",
    "    html.Div([\n",
    "        html.H2(\"Data frame EDF + pays\",style={'textAlign': 'center'}),\n",
    "        # dcc.Graph(figure=edf_pays)\n",
    "        dash_table.DataTable(data=edf_pays.to_dict('records'), page_size=10,\n",
    "                             style_data_conditional=[\n",
    "                                {\n",
    "                                    'backgroundColor': 'black',\n",
    "                                    'color': 'white'   \n",
    "                                }\n",
    "                                ],\n",
    "                            )\n",
    "    ]),\n",
    "\n",
    "    # html.Div([\n",
    "    #     html.H2(\"Type d'énergie vendu par EDF de 2019 à 2022\",style={'textAlign': 'center'}),\n",
    "    #     dcc.Graph(figure=px.line_3d(edf, x='Année', y='Sector', z='Production'))                FONCTIONNE\n",
    "    # ]),\n",
    "    # html.Div([\n",
    "    #     html.H2(\"histogramme\",style={'textAlign': 'center'}),\n",
    "    #     dcc.Graph(figure=px.histogram(edf, x='Année', y='Production', histfunc='avg'))  \n",
    "    # ]), \n",
    "    \n",
    "    # html.Div([\n",
    "    #     html.H2(\"Data frame de EDF\",style={'textAlign': 'center'}),\n",
    "    #     dcc.Graph(figure=px.bar((edf.groupby([\"Année\",\"Filière\"], sort=True)['Production'].mean()).reset_index(), x='Année', y='Production',color=\"Filière\", height=800,barmode=\"group\"))\n",
    "    # ]),\n",
    "    html.Div([\n",
    "        html.H2(\"Data frame de EDFzzzzzzzzzzzzzzzzzzzz\",style={'textAlign': 'center'}),\n",
    "        dcc.Graph(figure=premiereFig())\n",
    "    ]),\n",
    "    html.Div([\n",
    "        html.H2(\"Data frame de EDF\",style={'textAlign': 'center'}),\n",
    "        dash_table.DataTable(data=mean_counts_by_year().to_dict('records'), page_size=10)\n",
    "    ]),\n",
    "    html.Div([\n",
    "        html.H2(\"2ieme graph edf\",style={'textAlign': 'center'}),\n",
    "        dcc.Graph(figure=deuxiemeFig())\n",
    "    ]),\n",
    "    html.Div([\n",
    "    html.H2(\"Détail de la production d'énergie d'EDF par pays\",style={'textAlign': 'center'}),\n",
    "    dcc.Dropdown(\n",
    "        id='country-dropdown',\n",
    "        options=[{'label': country, 'value': country}\n",
    "        for country in edf['Périmètre spatial'].unique()],\n",
    "        value=edf['Périmètre spatial'].unique()[0],  # Default value\n",
    "        multi=False,\n",
    "        style={'width': '50%'},\n",
    "        placeholder='Choisir un pays',\n",
    "                                            #je ne peux paas le mettre dans un def dans graph_selectedPays.py\n",
    "    ),\n",
    "   \n",
    "    dcc.Graph( id='diagramme')\n",
    "    \n",
    "    # dcc.Graph(id='scatter-plot'),\n",
    "       \n",
    "    ]), \n",
    "                      \n",
    "\n",
    "    # html.Div([\n",
    "    #     html.H2(\"Trier par production d'énergie\"),\n",
    "    #     html.Button(\"Trier\", id=\"button_production\"),\n",
    "    #     dcc.Graph(figure=selectPays())\n",
    "    # ]),\n",
    "    # mean_counts_by_year = pd.DataFrame(edf.groupby([\"Année\",\n",
    "    # \"Filière\"], sort=True)['Production'].mean()).reset_index()\n",
    "    # fig1 = px.bar(mean_counts_by_year, x='Année', y='Production',\n",
    "    # color=\"Filière\", height=800)\n",
    "    # html.Div([\n",
    "    #     html.H2(\"Carte choroplèthe interactive\"),\n",
    "    #     dcc.Graph(figure=px)\n",
    "    # ]),\n",
    "\n",
    "    # html.Div([\n",
    "    #     html.H2(\"Trier par production d'énergie\"),\n",
    "    #     html.Button(\"Trier\", id=\"button_production\"),\n",
    "    #     dcc.Graph(id=\"graph_production\")\n",
    "    # ]),\n",
    "\n",
    "    # html.Div([\n",
    "    #     html.H2(\"Trier par ordre alphabétique les pays\"),\n",
    "    #     html.Button(\"Trier\", id=\"button_alpha\"),\n",
    "    #     dcc.Graph(id=\"graph_alpha\")\n",
    "    # ]),\n",
    "\n",
    "    # html.Div([\n",
    "    #     html.H2(\"Carte avec folium\"),\n",
    "    #     html.Iframe(id='map', style={'width': '100%', 'height': '500px'})\n",
    "    # ]),\n",
    "\n",
    "])\n",
    "\n",
    "\n",
    "\n",
    "\n"
   ]
  },
  {
   "cell_type": "code",
   "execution_count": 261,
   "metadata": {},
   "outputs": [],
   "source": [
    "@app.callback(\n",
    "    Output('diagramme', 'figure'),\n",
    "    Input('country-dropdown', 'value')\n",
    ")\n",
    "def update_diagram(selected_country):\n",
    "    filtered_df = edf[edf['Périmètre spatial'] == selected_country]\n",
    "    filtered_df['Année'] = filtered_df['Année'].astype('category')\n",
    "    fig = px.scatter(\n",
    "        filtered_df,\n",
    "        x='Année',\n",
    "        y='Production',\n",
    "        render_mode='svg',\n",
    "        labels={'Année': 'Année', 'Production': 'Production'},\n",
    "        template='plotly_white',\n",
    "        color_discrete_sequence=['blue']\n",
    "    )\n",
    "    # Forcer Plotly Express à traiter l'axe x comme catégorie\n",
    "    fig.update_xaxes(type='category')\n",
    "    return fig\n"
   ]
  },
  {
   "cell_type": "code",
   "execution_count": 262,
   "metadata": {},
   "outputs": [],
   "source": [
    "# app.callback(\n",
    "#     dash.dependencies.Output('graph_production', 'figure'),\n",
    "#     [dash.dependencies.Input('button_production', 'n_clicks')]\n",
    "# )\n",
    "# def update_production(n_clicks):\n",
    "#     if n_clicks is None:\n",
    "#         raise dash.exceptions.PreventUpdate\n",
    "\n",
    "#     return px.bar(laProduction, x='Production', y='Année', color='Filière', height=800)\n",
    "\n",
    "# @app.callback(\n",
    "#     dash.dependencies.Output('graph_alpha', 'figure'),\n",
    "#     [dash.dependencies.Input('button_alpha', 'n_clicks')]\n",
    "# )\n",
    "# def update_alpha(n_clicks):\n",
    "#     if n_clicks is None:\n",
    "#         raise dash.exceptions.PreventUpdate\n",
    "\n",
    "#     return px.bar(pays_alpha, x='Production', y='Année', color='Filière', height=800)\n",
    "\n",
    "\n",
    "# app.run_server(debug=True)\n"
   ]
  },
  {
   "cell_type": "code",
   "execution_count": 263,
   "metadata": {},
   "outputs": [
    {
     "data": {
      "text/html": [
       "\n",
       "        <iframe\n",
       "            width=\"100%\"\n",
       "            height=\"650\"\n",
       "            src=\"http://127.0.0.1:8050/\"\n",
       "            frameborder=\"0\"\n",
       "            allowfullscreen\n",
       "            \n",
       "        ></iframe>\n",
       "        "
      ],
      "text/plain": [
       "<IPython.lib.display.IFrame at 0x28e4807d3d0>"
      ]
     },
     "metadata": {},
     "output_type": "display_data"
    },
    {
     "name": "stderr",
     "output_type": "stream",
     "text": [
      "C:\\Users\\jonat\\AppData\\Local\\Temp\\ipykernel_13480\\2634057917.py:7: SettingWithCopyWarning:\n",
      "\n",
      "\n",
      "A value is trying to be set on a copy of a slice from a DataFrame.\n",
      "Try using .loc[row_indexer,col_indexer] = value instead\n",
      "\n",
      "See the caveats in the documentation: https://pandas.pydata.org/pandas-docs/stable/user_guide/indexing.html#returning-a-view-versus-a-copy\n",
      "\n",
      "C:\\Users\\jonat\\AppData\\Local\\Temp\\ipykernel_13480\\2634057917.py:7: SettingWithCopyWarning:\n",
      "\n",
      "\n",
      "A value is trying to be set on a copy of a slice from a DataFrame.\n",
      "Try using .loc[row_indexer,col_indexer] = value instead\n",
      "\n",
      "See the caveats in the documentation: https://pandas.pydata.org/pandas-docs/stable/user_guide/indexing.html#returning-a-view-versus-a-copy\n",
      "\n",
      "C:\\Users\\jonat\\AppData\\Local\\Temp\\ipykernel_13480\\2634057917.py:7: SettingWithCopyWarning:\n",
      "\n",
      "\n",
      "A value is trying to be set on a copy of a slice from a DataFrame.\n",
      "Try using .loc[row_indexer,col_indexer] = value instead\n",
      "\n",
      "See the caveats in the documentation: https://pandas.pydata.org/pandas-docs/stable/user_guide/indexing.html#returning-a-view-versus-a-copy\n",
      "\n",
      "C:\\Users\\jonat\\AppData\\Local\\Temp\\ipykernel_13480\\2634057917.py:7: SettingWithCopyWarning:\n",
      "\n",
      "\n",
      "A value is trying to be set on a copy of a slice from a DataFrame.\n",
      "Try using .loc[row_indexer,col_indexer] = value instead\n",
      "\n",
      "See the caveats in the documentation: https://pandas.pydata.org/pandas-docs/stable/user_guide/indexing.html#returning-a-view-versus-a-copy\n",
      "\n",
      "C:\\Users\\jonat\\AppData\\Local\\Temp\\ipykernel_13480\\2634057917.py:7: SettingWithCopyWarning:\n",
      "\n",
      "\n",
      "A value is trying to be set on a copy of a slice from a DataFrame.\n",
      "Try using .loc[row_indexer,col_indexer] = value instead\n",
      "\n",
      "See the caveats in the documentation: https://pandas.pydata.org/pandas-docs/stable/user_guide/indexing.html#returning-a-view-versus-a-copy\n",
      "\n",
      "C:\\Users\\jonat\\AppData\\Local\\Temp\\ipykernel_13480\\2634057917.py:7: SettingWithCopyWarning:\n",
      "\n",
      "\n",
      "A value is trying to be set on a copy of a slice from a DataFrame.\n",
      "Try using .loc[row_indexer,col_indexer] = value instead\n",
      "\n",
      "See the caveats in the documentation: https://pandas.pydata.org/pandas-docs/stable/user_guide/indexing.html#returning-a-view-versus-a-copy\n",
      "\n",
      "C:\\Users\\jonat\\AppData\\Local\\Temp\\ipykernel_13480\\2634057917.py:7: SettingWithCopyWarning:\n",
      "\n",
      "\n",
      "A value is trying to be set on a copy of a slice from a DataFrame.\n",
      "Try using .loc[row_indexer,col_indexer] = value instead\n",
      "\n",
      "See the caveats in the documentation: https://pandas.pydata.org/pandas-docs/stable/user_guide/indexing.html#returning-a-view-versus-a-copy\n",
      "\n",
      "C:\\Users\\jonat\\AppData\\Local\\Temp\\ipykernel_13480\\2634057917.py:7: SettingWithCopyWarning:\n",
      "\n",
      "\n",
      "A value is trying to be set on a copy of a slice from a DataFrame.\n",
      "Try using .loc[row_indexer,col_indexer] = value instead\n",
      "\n",
      "See the caveats in the documentation: https://pandas.pydata.org/pandas-docs/stable/user_guide/indexing.html#returning-a-view-versus-a-copy\n",
      "\n",
      "C:\\Users\\jonat\\AppData\\Local\\Temp\\ipykernel_13480\\2634057917.py:7: SettingWithCopyWarning:\n",
      "\n",
      "\n",
      "A value is trying to be set on a copy of a slice from a DataFrame.\n",
      "Try using .loc[row_indexer,col_indexer] = value instead\n",
      "\n",
      "See the caveats in the documentation: https://pandas.pydata.org/pandas-docs/stable/user_guide/indexing.html#returning-a-view-versus-a-copy\n",
      "\n"
     ]
    }
   ],
   "source": [
    "if __name__ == '__main__':\n",
    "    app.run(debug=True)"
   ]
  }
 ],
 "metadata": {
  "kernelspec": {
   "display_name": "Python 3",
   "language": "python",
   "name": "python3"
  },
  "language_info": {
   "codemirror_mode": {
    "name": "ipython",
    "version": 3
   },
   "file_extension": ".py",
   "mimetype": "text/x-python",
   "name": "python",
   "nbconvert_exporter": "python",
   "pygments_lexer": "ipython3",
   "version": "3.12.0"
  }
 },
 "nbformat": 4,
 "nbformat_minor": 2
}
