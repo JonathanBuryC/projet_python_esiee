{
 "cells": [
  {
   "cell_type": "code",
   "execution_count": 10,
   "metadata": {},
   "outputs": [],
   "source": [
    "import pandas as pd\n",
    "import dash\n",
    "from dash import Dash, html, dash_table, dcc,  Input, Output, callback\n",
    "import plotly_express as px\n",
    "import sweetviz as sv\n",
    "import folium\n",
    "# from folium.plugins import MarkerCluster\n",
    "import numpy as np\n",
    "import random # pour modifier les coordonnées long et lat\n",
    "\n",
    "import plotly.graph_objects as go\n",
    "import sys"
   ]
  },
  {
   "cell_type": "code",
   "execution_count": 11,
   "metadata": {},
   "outputs": [],
   "source": [
    "import dash_core_components as dcc\n",
    "import dash_html_components as html\n",
    "from dash.dependencies import Input, Output"
   ]
  },
  {
   "cell_type": "markdown",
   "metadata": {},
   "source": [
    "import des modules du folder \"scripte_python\""
   ]
  },
  {
   "cell_type": "code",
   "execution_count": 12,
   "metadata": {},
   "outputs": [],
   "source": [
    "sys.path.append('../scripte_python')\n",
    "from graph_premiereFig import premiereFig\n",
    "from graph_premiereFig import mean_counts_by_year\n",
    "from graph_deuxiemeFig import deuxiemeFig\n",
    "from graph_selectPays import button_select_country\n",
    "from graph_selectPays import selectPays\n",
    "from mapChloropleth import figure_chloropleth"
   ]
  },
  {
   "cell_type": "markdown",
   "metadata": {},
   "source": [
    "Dataframes"
   ]
  },
  {
   "cell_type": "code",
   "execution_count": 13,
   "metadata": {},
   "outputs": [],
   "source": [
    "edf = pd.read_csv(\"../CSV/productions-consolidees-par-pays-du-groupe-edf.csv\",delimiter=';')\n",
    "paysDF = pd.read_csv(\"../CSV/Country.csv\" )\n",
    "edf_pays=pd.read_csv(\"../CSV/edf_AND_country.csv\")\n",
    "iso=pd.read_csv(\"../CSV/all.csv\")\n",
    "add_iso_to_edf_pays=pd.read_csv(\"../CSV/edf_AND_country_AND_iso.csv\")"
   ]
  },
  {
   "cell_type": "code",
   "execution_count": 14,
   "metadata": {},
   "outputs": [],
   "source": [
    "edf.columns = [col.strip() for col in edf.columns]"
   ]
  },
  {
   "cell_type": "markdown",
   "metadata": {},
   "source": [
    "initialisation de la page web Dash "
   ]
  },
  {
   "cell_type": "code",
   "execution_count": 15,
   "metadata": {},
   "outputs": [],
   "source": [
    "app = dash.Dash(__name__)"
   ]
  },
  {
   "cell_type": "markdown",
   "metadata": {},
   "source": [
    "Marquage dynamique pour que les boutons puissent impacter en temps reel les graphs\n"
   ]
  },
  {
   "cell_type": "code",
   "execution_count": 16,
   "metadata": {},
   "outputs": [],
   "source": [
    "app.layout = html.Div([\n",
    "    html.H1(\"Étude du marché de l'énergie d'EDF au niveau mondial\", style={'textAlign': 'center', 'color': '#7FDBFF'}),\n",
    "\n",
    "    html.Div([\n",
    "        html.P(\"Data set appartenant à EDF\"),\n",
    "        dcc.Markdown(\"[Source Internet](https://opendata.edf.fr/explore/dataset/productions-consolidees-par-pays-du-groupe-edf/information/?disjunctive.perimetre_spatial&disjunctive.filiere&sort=-tri&dataChart=eyJxdWVyaWVzIjpbeyJjaGFydHMiOlt7InR5cGUiOiJjb2x1bW4iLCJmdW5jIjoiU1VNIiwieUF4aXMiOiJwcm9kdWN0aW9uIiwic2NpZW50aWZpY0Rpc3BsYXkiOnRydWUsImNvbG9yIjoiIzAwMUE3MCJ9XSwieEF4aXMiOiJhbm5lZSIsIm1heHBvaW50cyI6bnVsbCwidGltZXNjYWxlIjoieWVhciIsInNvcnQiOiIiLCJzZXJpZXNCcmVha2Rvd25UaW1lc2NhbGUiOiIiLCJjb25maWciOnsiZGF0YXNldCI6InByb2R1Y3Rpb25zLWNvbnNvbGlkZWVzLXBhci1wYXlzLWR1LWdyb3VwZS1lZGYiLCJvcHRpb25zIjp7ImRpc2p1bmN0aXZlLnBlcmltZXRyZV9zcGF0aWFsIjp0cnVlLCJkaXNqdW5jdGl2ZS5maWxpZXJlIjp0cnVlLCJzb3J0IjoiLXRyaSJ9fX1dLCJkaXNwbGF5TGVnZW5kIjp0cnVlLCJhbGlnbk1vbnRoIjp0cnVlLCJ0aW1lc2NhbGUiOiIifQ%3D%3D)\")\n",
    "    ]),\n",
    "\n",
    "    html.Div([\n",
    "        html.H2(\"Data frame de EDF\",style={'textAlign': 'center'}),\n",
    "        dash_table.DataTable(data=edf.to_dict('records'),\n",
    "                             page_size=10,\n",
    "                             style_data_conditional=[\n",
    "                                {\n",
    "                                    'backgroundColor': 'black',\n",
    "                                    'color': 'white'   \n",
    "                                }\n",
    "                                ],\n",
    "                            )\n",
    "    ]),\n",
    "       html.Div([\n",
    "        html.H2(\"Data frame des pays\",style={'textAlign': 'center'}),\n",
    "        dash_table.DataTable(data=paysDF.to_dict('records'),\n",
    "                             page_size=10,\n",
    "                             style_data_conditional=[\n",
    "                                {\n",
    "                                    'backgroundColor': 'black',\n",
    "                                    'color': 'white'   \n",
    "                                }\n",
    "                                ],\n",
    "                            )\n",
    "    ]),\n",
    "\n",
    "    html.Div([\n",
    "        html.H2(\"Data frame EDF + pays\",style={'textAlign': 'center'}),\n",
    "        dash_table.DataTable(data=edf_pays.to_dict('records'), page_size=10,\n",
    "                             style_data_conditional=[\n",
    "                                {\n",
    "                                    'backgroundColor': 'black',\n",
    "                                    'color': 'white'   \n",
    "                                }\n",
    "                                ],\n",
    "                            )\n",
    "    ]),\n",
    "    \n",
    "    html.Div([\n",
    "        html.H2(\"Data frame de EDFzzzzzzzzzzzzzzzzzzzz\",style={'textAlign': 'center'}),\n",
    "        dcc.Graph(figure=premiereFig())\n",
    "    ]),\n",
    "    \n",
    "    html.Div([\n",
    "        html.H2(\"Data frame de EDF\",style={'textAlign': 'center'}),\n",
    "        dash_table.DataTable(data=mean_counts_by_year().to_dict('records'), page_size=10)\n",
    "    ]),\n",
    "    \n",
    "    html.Div([\n",
    "        html.H2(\"2ieme graph edf\",style={'textAlign': 'center'}),\n",
    "        dcc.Graph(figure=deuxiemeFig())\n",
    "    ]),\n",
    "    \n",
    "    html.Div([\n",
    "    html.H2(\"Détail de la production d'énergie d'EDF par pays\",style={'textAlign': 'center', 'backgroundColor': 'black',\n",
    "                                    'color': 'white' }),\n",
    "    dcc.Dropdown(\n",
    "        id='country-dropdown',\n",
    "        options=[{'label': country, 'value': country}\n",
    "        for country in edf['Périmètre spatial'].unique()],\n",
    "        value=edf['Périmètre spatial'].unique()[0],  # Default value\n",
    "        multi=False,\n",
    "\n",
    "        style={'width': '50%', 'color': 'blue', 'backgroundColor': 'grey' },\n",
    "        placeholder='Choisir un pays',\n",
    "                                            #je ne peux paas le mettre dans un def dans graph_selectedPays.py\n",
    "    ),  \n",
    "    dcc.Graph( id='diagramme')   \n",
    "    ]), \n",
    "                     \n",
    "    html.Div([\n",
    "        html.H1(\"Energy Production Visualization\"),\n",
    "        dcc.Graph(figure=figure_chloropleth())\n",
    "    ])   \n",
    "])\n",
    "\n",
    "\n",
    "\n",
    "\n"
   ]
  },
  {
   "cell_type": "code",
   "execution_count": 17,
   "metadata": {},
   "outputs": [
    {
     "name": "stderr",
     "output_type": "stream",
     "text": [
      "C:\\Users\\jonat\\AppData\\Local\\Temp\\ipykernel_20916\\1225712296.py:7: SettingWithCopyWarning:\n",
      "\n",
      "\n",
      "A value is trying to be set on a copy of a slice from a DataFrame.\n",
      "Try using .loc[row_indexer,col_indexer] = value instead\n",
      "\n",
      "See the caveats in the documentation: https://pandas.pydata.org/pandas-docs/stable/user_guide/indexing.html#returning-a-view-versus-a-copy\n",
      "\n"
     ]
    }
   ],
   "source": [
    "@app.callback(\n",
    "    Output('diagramme', 'figure'),\n",
    "    Input('country-dropdown', 'value')\n",
    ")\n",
    "def update_diagram(selected_country):\n",
    "    filtered_df = edf[edf['Périmètre spatial'] == selected_country]\n",
    "    filtered_df['Année'] = filtered_df['Année'].astype('category')\n",
    "    fig = px.scatter(\n",
    "        filtered_df,\n",
    "        x='Année',\n",
    "        y='Production',\n",
    "        render_mode='svg',\n",
    "        # style = {'backgroundColor': '#FFD700'},\n",
    "        labels={'Année': 'Année', 'Production': 'Production'},\n",
    "        template='plotly_white',\n",
    "        color_discrete_sequence=['blue']\n",
    "    )\n",
    "    # Forcer Plotly Express à traiter l'axe x comme catégorie\n",
    "    fig.update_xaxes(type='category')\n",
    "    # fig.update_layout( plot_bgcolor='linear-gradient(180deg, #000000, #404040)')\n",
    "    return fig\n"
   ]
  }
 ],
 "metadata": {
  "kernelspec": {
   "display_name": "Python 3",
   "language": "python",
   "name": "python3"
  },
  "language_info": {
   "codemirror_mode": {
    "name": "ipython",
    "version": 3
   },
   "file_extension": ".py",
   "mimetype": "text/x-python",
   "name": "python",
   "nbconvert_exporter": "python",
   "pygments_lexer": "ipython3",
   "version": "3.12.0"
  }
 },
 "nbformat": 4,
 "nbformat_minor": 2
}
